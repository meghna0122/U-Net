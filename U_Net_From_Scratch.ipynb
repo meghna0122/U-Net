{
  "nbformat": 4,
  "nbformat_minor": 0,
  "metadata": {
    "colab": {
      "provenance": []
    },
    "kernelspec": {
      "name": "python3",
      "display_name": "Python 3"
    },
    "language_info": {
      "name": "python"
    }
  },
  "cells": [
    {
      "cell_type": "code",
      "execution_count": 4,
      "metadata": {
        "id": "iRbAXW9myKLu"
      },
      "outputs": [],
      "source": [
        "import torch\n",
        "import torch.nn as nn\n",
        "import torchvision.transforms.functional as TF"
      ]
    },
    {
      "cell_type": "code",
      "source": [
        "class DoubleConv(nn.Module):\n",
        "  def __init__(self,in_channels,out_channels):\n",
        "    super(DoubleConv,self).__init__()\n",
        "    self.Conv= nn.Sequential(\n",
        "        nn.Conv2d(in_channels,out_channels,3,1,1,bias=False),\n",
        "        nn.BatchNorm2d(out_channels),\n",
        "        nn.ReLU(inplace = True),\n",
        "        nn.Conv2d(out_channels,out_channels,3,1,1,bias=False),\n",
        "        nn.BatchNorm2d(out_channels),\n",
        "        nn.ReLU(inplace = True)\n",
        "\n",
        "    )\n",
        "  def forward(self,x):\n",
        "    return self.Conv(x)\n",
        "\n"
      ],
      "metadata": {
        "id": "REhutZllyZr1"
      },
      "execution_count": 12,
      "outputs": []
    },
    {
      "cell_type": "code",
      "source": [
        "class UNET(nn.Module):\n",
        "  def __init__(self,in_channels=3,out_channels=1,features=[64,128,256,512]):\n",
        "    super(UNET,self).__init__()\n",
        "    self.downs =nn.ModuleList()\n",
        "    self.ups=nn.ModuleList()\n",
        "    self.pool=nn.MaxPool2d(kernel_size=2,stride=2)\n",
        "    #down\n",
        "    for feature in features:\n",
        "      self.downs.append(DoubleConv(in_channels,feature))\n",
        "      in_channels=feature\n",
        "\n",
        "    #ups\n",
        "    for feature in reversed(features):\n",
        "      self.ups.append(nn.ConvTranspose2d(feature*2,feature,kernel_size=2,stride=2))\n",
        "      self.ups.append(DoubleConv(feature*2,feature))\n",
        "\n",
        "    #bottleneck\n",
        "    self.bottleneck = DoubleConv(features[-1],features[-1]*2)\n",
        "\n",
        "    #final conv\n",
        "    self.final_conv=nn.Conv2d(features[0],out_channels,kernel_size=1)\n",
        "\n",
        "  def forward(self,x):\n",
        "    skip_connections=[]\n",
        "    for down in self.downs:\n",
        "      x=down(x)\n",
        "      skip_connections.append(x)\n",
        "      x=self.pool(x)\n",
        "    x=self.bottleneck(x)\n",
        "    skip_connections=skip_connections[: : -1]\n",
        "    for idx in range(0,len(self.ups),2):\n",
        "      x=self.ups[idx](x)\n",
        "      skip_connection = skip_connections[idx//2]\n",
        "      if x.shape!=skip_connection.shape:\n",
        "        x=TF.resize(x,size=skip_connection.shape[2:])\n",
        "      concat_skip = torch.cat((skip_connection,x),dim=1)\n",
        "      x= self.ups[idx+1](concat_skip)\n",
        "    return self.final_conv(x)\n"
      ],
      "metadata": {
        "id": "tOEH90sy5aPy"
      },
      "execution_count": 13,
      "outputs": []
    },
    {
      "cell_type": "code",
      "source": [
        "model = UNET(in_channels=1,out_channels=1)\n",
        "def test():\n",
        "  x= torch.randn((3,1,160,160))\n",
        "  preds=model(x)\n",
        "  print(preds.shape)\n",
        "  print(x.shape)"
      ],
      "metadata": {
        "id": "NvIv1gqv-K1-"
      },
      "execution_count": 24,
      "outputs": []
    },
    {
      "cell_type": "code",
      "source": [
        "if __name__ ==\"__main__\":\n",
        "  test()"
      ],
      "metadata": {
        "colab": {
          "base_uri": "https://localhost:8080/"
        },
        "id": "bmRC-ABT-ine",
        "outputId": "29de18b1-906a-430e-ff2f-179b60acca49"
      },
      "execution_count": 25,
      "outputs": [
        {
          "output_type": "stream",
          "name": "stdout",
          "text": [
            "torch.Size([3, 1, 160, 160])\n",
            "torch.Size([3, 1, 160, 160])\n"
          ]
        }
      ]
    },
    {
      "cell_type": "code",
      "source": [
        "try:\n",
        "  import torchinfo\n",
        "except:\n",
        "  !pip install torchinfo\n",
        "  import torchinfo\n",
        "from torchinfo import summary\n",
        "summary(model, input_size=[3,1,160,160])"
      ],
      "metadata": {
        "colab": {
          "base_uri": "https://localhost:8080/"
        },
        "id": "6mfp-0NA-pgW",
        "outputId": "9da2d2bf-0b41-4356-cec1-073e43ecaa5c"
      },
      "execution_count": 26,
      "outputs": [
        {
          "output_type": "execute_result",
          "data": {
            "text/plain": [
              "==========================================================================================\n",
              "Layer (type:depth-idx)                   Output Shape              Param #\n",
              "==========================================================================================\n",
              "UNET                                     [3, 1, 160, 160]          --\n",
              "├─ModuleList: 1-7                        --                        (recursive)\n",
              "│    └─DoubleConv: 2-1                   [3, 64, 160, 160]         --\n",
              "│    │    └─Sequential: 3-1              [3, 64, 160, 160]         37,696\n",
              "├─MaxPool2d: 1-2                         [3, 64, 80, 80]           --\n",
              "├─ModuleList: 1-7                        --                        (recursive)\n",
              "│    └─DoubleConv: 2-2                   [3, 128, 80, 80]          --\n",
              "│    │    └─Sequential: 3-2              [3, 128, 80, 80]          221,696\n",
              "├─MaxPool2d: 1-4                         [3, 128, 40, 40]          --\n",
              "├─ModuleList: 1-7                        --                        (recursive)\n",
              "│    └─DoubleConv: 2-3                   [3, 256, 40, 40]          --\n",
              "│    │    └─Sequential: 3-3              [3, 256, 40, 40]          885,760\n",
              "├─MaxPool2d: 1-6                         [3, 256, 20, 20]          --\n",
              "├─ModuleList: 1-7                        --                        (recursive)\n",
              "│    └─DoubleConv: 2-4                   [3, 512, 20, 20]          --\n",
              "│    │    └─Sequential: 3-4              [3, 512, 20, 20]          3,540,992\n",
              "├─MaxPool2d: 1-8                         [3, 512, 10, 10]          --\n",
              "├─DoubleConv: 1-9                        [3, 1024, 10, 10]         --\n",
              "│    └─Sequential: 2-5                   [3, 1024, 10, 10]         --\n",
              "│    │    └─Conv2d: 3-5                  [3, 1024, 10, 10]         4,718,592\n",
              "│    │    └─BatchNorm2d: 3-6             [3, 1024, 10, 10]         2,048\n",
              "│    │    └─ReLU: 3-7                    [3, 1024, 10, 10]         --\n",
              "│    │    └─Conv2d: 3-8                  [3, 1024, 10, 10]         9,437,184\n",
              "│    │    └─BatchNorm2d: 3-9             [3, 1024, 10, 10]         2,048\n",
              "│    │    └─ReLU: 3-10                   [3, 1024, 10, 10]         --\n",
              "├─ModuleList: 1-10                       --                        --\n",
              "│    └─ConvTranspose2d: 2-6              [3, 512, 20, 20]          2,097,664\n",
              "│    └─DoubleConv: 2-7                   [3, 512, 20, 20]          --\n",
              "│    │    └─Sequential: 3-11             [3, 512, 20, 20]          7,079,936\n",
              "│    └─ConvTranspose2d: 2-8              [3, 256, 40, 40]          524,544\n",
              "│    └─DoubleConv: 2-9                   [3, 256, 40, 40]          --\n",
              "│    │    └─Sequential: 3-12             [3, 256, 40, 40]          1,770,496\n",
              "│    └─ConvTranspose2d: 2-10             [3, 128, 80, 80]          131,200\n",
              "│    └─DoubleConv: 2-11                  [3, 128, 80, 80]          --\n",
              "│    │    └─Sequential: 3-13             [3, 128, 80, 80]          442,880\n",
              "│    └─ConvTranspose2d: 2-12             [3, 64, 160, 160]         32,832\n",
              "│    └─DoubleConv: 2-13                  [3, 64, 160, 160]         --\n",
              "│    │    └─Sequential: 3-14             [3, 64, 160, 160]         110,848\n",
              "├─Conv2d: 1-11                           [3, 1, 160, 160]          65\n",
              "==========================================================================================\n",
              "Total params: 31,036,481\n",
              "Trainable params: 31,036,481\n",
              "Non-trainable params: 0\n",
              "Total mult-adds (G): 63.92\n",
              "==========================================================================================\n",
              "Input size (MB): 0.31\n",
              "Forward/backward pass size (MB): 674.00\n",
              "Params size (MB): 124.15\n",
              "Estimated Total Size (MB): 798.45\n",
              "=========================================================================================="
            ]
          },
          "metadata": {},
          "execution_count": 26
        }
      ]
    },
    {
      "cell_type": "code",
      "source": [],
      "metadata": {
        "id": "qJZDQsooAYQe"
      },
      "execution_count": null,
      "outputs": []
    }
  ]
}